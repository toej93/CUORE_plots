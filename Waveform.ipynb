{
 "cells": [
  {
   "cell_type": "code",
   "execution_count": 1,
   "id": "506f0fcf-71e2-4cf0-9eae-0650bfa259fe",
   "metadata": {},
   "outputs": [
    {
     "name": "stdout",
     "output_type": "stream",
     "text": [
      "Welcome to JupyROOT 6.24/02\n"
     ]
    }
   ],
   "source": [
    "import numpy as np\n",
    "import matplotlib as mpl\n",
    "import matplotlib.pyplot as plt\n",
    "import matplotlib.colors as mcolors\n",
    "import scipy\n",
    "from matplotlib.colors import LogNorm\n",
    "import pandas as pd\n",
    "import seaborn as sns\n",
    "%matplotlib inline\n",
    "# sys.path.insert(1, \"/users/PAS0654/osu8354/ARA_cvmfs/source/AraRoot/analysis/ARA_analysis/SourceSearch\")\n",
    "# import deDisperse_util as util\n",
    "import matplotlib.colors as colors\n",
    "from matplotlib.pyplot import cm\n",
    "\n",
    "\n",
    "import ROOT\n",
    "from ROOT import TH1D,TF1, gRandom, gPad, gStyle\n",
    "from ROOT import TChain, TSelector, TTree\n",
    "\n",
    "# my_path_plots = os.path.abspath(\"./plots/\")"
   ]
  },
  {
   "cell_type": "code",
   "execution_count": 3,
   "id": "5ca0d17d-b808-475c-9060-6d6ff4b05e2a",
   "metadata": {},
   "outputs": [],
   "source": [
    "# mpl.use('agg') \n",
    "mpl.rcParams['text.usetex'] = True\n",
    "mpl.rcParams['mathtext.rm'] = 'Times New Roman'\n",
    "mpl.rcParams['mathtext.it'] = 'Times New Roman:italic'\n",
    "mpl.rcParams['mathtext.bf'] = 'Times New Roman:bold'\n",
    "# mpl.rcParams['text.latex.preamble'] = [r'\\usepackage{amsmath}'] #for \\text command\n",
    "\n",
    "mpl.rc('font', family='serif', size=12)\n",
    "mpl.rcParams['xtick.labelsize'] = 14\n",
    "mpl.rcParams['ytick.labelsize'] = 14\n",
    "mpl.rcParams['xtick.major.size'] = 5\n",
    "mpl.rcParams['ytick.major.size'] = 5\n",
    "\n",
    "mpl.rcParams['axes.titlesize'] = 18\n",
    "mpl.rcParams['axes.labelsize'] = 18\n",
    "# mpl.rc('font', size=16)\n",
    "mpl.rc('axes', titlesize=20)\n",
    "\n",
    "current_palette = sns.color_palette('colorblind', 10)\n",
    "import warnings\n",
    "warnings.filterwarnings(\"ignore\")"
   ]
  },
  {
   "cell_type": "code",
   "execution_count": 23,
   "id": "d5e3c809-4b8f-4a7d-bde8-25dacaac4767",
   "metadata": {},
   "outputs": [
    {
     "name": "stdout",
     "output_type": "stream",
     "text": [
      "TFile**\t\tCUORE_wform.root\t\n",
      " TFile*\t\tCUORE_wform.root\t\n",
      "  KEY: TGraph\tGraph;1\tTimestream; time [s]; Voltage [a.u.]\n"
     ]
    }
   ],
   "source": [
    "f = ROOT.TFile.Open(\"CUORE_wform.root\")\n",
    "f.ls()"
   ]
  },
  {
   "cell_type": "code",
   "execution_count": 24,
   "id": "9419e27a-ccb6-430e-a120-f6da3c279bdc",
   "metadata": {},
   "outputs": [],
   "source": [
    "graph = f.Get(\"Graph\")"
   ]
  },
  {
   "cell_type": "code",
   "execution_count": 25,
   "id": "0fabd64b-7f6c-4f17-9eab-f5980303d924",
   "metadata": {},
   "outputs": [],
   "source": [
    "x = []\n",
    "y = []\n",
    "for i in range(graph.GetN()):\n",
    "    x.append(graph.GetX()[i])\n",
    "    y.append(graph.GetY()[i])\n"
   ]
  },
  {
   "cell_type": "code",
   "execution_count": 37,
   "id": "3aead247-2233-4d85-b696-034d1e3d62d8",
   "metadata": {},
   "outputs": [
    {
     "data": {
      "image/png": "[encoded data removed]",
      "text/plain": [
       "<Figure size 504x288 with 1 Axes>"
      ]
     },
     "metadata": {
      "needs_background": "light"
     },
     "output_type": "display_data"
    }
   ],
   "source": [
    "bl = np.average(np.array(y[0:100]))\n",
    "plt.figure(figsize=(7,4))\n",
    "plt.plot(x,y-bl)\n",
    "plt.xlim(0,5)\n",
    "plt.xlabel(\"Time [s]\")\n",
    "plt.ylabel(\"Amplitude [arb.]\")\n",
    "plt.tight_layout()\n",
    "plt.savefig(\"CUORE_waveform.pdf\")"
   ]
  },
  {
   "cell_type": "code",
   "execution_count": 31,
   "id": "34683531-0854-45d9-8181-a95cf8d647aa",
   "metadata": {},
   "outputs": [
    {
     "data": {
      "text/plain": [
       "-6570.276145935059"
      ]
     },
     "execution_count": 31,
     "metadata": {},
     "output_type": "execute_result"
    }
   ],
   "source": [
    "bl"
   ]
  },
  {
   "cell_type": "code",
   "execution_count": null,
   "id": "7691e665-f069-441d-8fe0-fe9a54346fad",
   "metadata": {},
   "outputs": [],
   "source": []
  }
 ],
 "metadata": {
  "kernelspec": {
   "display_name": "Python 3 (ipykernel)",
   "language": "python",
   "name": "python3"
  },
  "language_info": {
   "codemirror_mode": {
    "name": "ipython",
    "version": 3
   },
   "file_extension": ".py",
   "mimetype": "text/x-python",
   "name": "python",
   "nbconvert_exporter": "python",
   "pygments_lexer": "ipython3",
   "version": "3.8.10"
  }
 },
 "nbformat": 4,
 "nbformat_minor": 5
}
