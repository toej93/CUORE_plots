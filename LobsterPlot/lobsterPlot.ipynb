{
 "cells": [
  {
   "cell_type": "markdown",
   "metadata": {},
   "source": [
    "# Calculating and cooking the \"Lobster plot\"\n",
    "**Author:** Jorge Torres, modified and updated from Jeremy Cushman's previous notebook: https://github.mit.edu/jeremy-cushman-1/neutrinomass\n",
    "\n",
    "**Description:** This notebook explains how to generate the so-called \"Lobster plot\"."
   ]
  },
  {
   "cell_type": "markdown",
   "metadata": {},
   "source": [
    "# Theory"
   ]
  },
  {
   "cell_type": "markdown",
   "metadata": {},
   "source": [
    "### The effective Majorana mass ($m_{\\beta\\beta}$): \n",
    "The effective Majorana mass is defined as: \n",
    "$$\n",
    "|m_{\\beta\\beta}| = \\left|\\sum_i^3 U^2_{ei} m_i\\right|,\n",
    "$$\n",
    "where $U$ is the PMNS matrix with two Majorana phases, where the mixing matrix elements are: \n",
    "* $U_{e1} = \\cos(\\theta_{12})\\cos(\\theta_{13})$, \n",
    "* $U_{e2} = \\sin(\\theta_{12})\\cos(\\theta_{13})e^{i\\alpha}$,\n",
    "* $U_{e3} = \\sin(\\theta_{13})e^{i(\\beta-\\eta)}$\n",
    "\n",
    "$\\alpha$, $\\beta$ are two Majorana mixing angles for which bo experimental information is not available, $\\eta$ is the CP-violating angle. In the calculation, $\\beta-\\eta$ is one random number from 0 to 2$\\pi$.\n",
    "\n",
    "One can expand the previous expression for $|m_{\\beta\\beta}|$ to obtain the following:\n",
    "\n",
    "$$\n",
    "|m_{\\beta\\beta}| = |c_{12}^2c_{13}^2m_1 + s_{12}^2c_{13}^2e^{i\\alpha} m_2 + s_{13}^2 e^{i(\\beta-\\eta)}|,\n",
    "$$\n",
    "where I have defined $c_{ab} \\equiv \\cos(\\theta_{ab})$ and $s_{ab} \\equiv \\sin(\\theta_{ab})$. The neutrino masses $m_i$ are realted to squared masses differences from solar and atmospheric data, $\\Delta m^2_{\\text{solar}}$ and $\\Delta m^2_{\\text{atm}}$ respectively. These can be approximated as a combination of the different $\\Delta m^2_{ij}$ as follows:\n",
    "\n",
    "$$\n",
    "\\Delta m^2_{\\text{solar}} \\approx \\Delta m^2_{21}\n",
    "$$\n",
    "\n",
    "$$\n",
    "\\Delta m^2_{\\text{atm}} \\approx \\frac{1}{2}\\left|\\Delta m^2_{31} + \\Delta m^2_{32}\\right|\n",
    "$$\n",
    "\n",
    "We have measured the value of and sign of $\\Delta m^2_{\\text{solar}}$, and it is positive. We have measured the value of $\\Delta m^2_{\\text{atm}}$, but not its sign. From this and from the previous relation between mass eigenstates, there can be two different schemes. The first scheme where $m_1$ is the lightest neutrino, called Normal Hierarchy (NH):\n",
    "$$\n",
    "m_1 = m_{\\text{lightest}}\n",
    "$$\n",
    "$$\n",
    "m_2 = \\sqrt{m_{\\text{lightest}}+\\Delta m^2_{\\text{solar}}}\n",
    "$$\n",
    "$$\n",
    "m_3 = \\sqrt{m_{\\text{lightest}}+\\Delta m^2_{\\text{atm}}+\\frac{\\Delta m^2_{\\text{solar}}}{2}}\n",
    "$$\n",
    "\n",
    "The second scheme corresponds to $m_3$ being the lightest neutrino mass eigenstate, named Inverted Hierarchy (IH):\n",
    "$$\n",
    "m_1 = \\sqrt{m_{\\text{lightest}}+\\Delta m^2_{\\text{atm}}-\\frac{\\Delta m^2_{\\text{solar}}}{2}}\n",
    "$$\n",
    "$$\n",
    "m_2 = \\sqrt{m_{\\text{lightest}}+\\Delta m^2_{\\text{atm}}-\\frac{\\Delta m^2_{\\text{solar}}}{2}}\n",
    "$$\n",
    "$$\n",
    "m_3 = m_{\\text{lightest}}\n",
    "$$\n",
    "\n",
    "From this, we can obtain an expression for the effective majorana mass ($m_{\\beta\\beta}$) in terms of measured parameters and as a function of the lightest mass eigenstate ($m_{\\text{lightest}}$) for the two different scenarios.\n",
    "\n",
    "\n",
    "The values of the parameters used in this code are shown next.\n",
    "\n",
    "\n",
    "## Mixing Parameters from NuFIT 5.0 [[JHEP 09 (2020) 178]](https://link.springer.com/article/10.1007%2FJHEP09%282020%29178)\n",
    "\n",
    "<img src=\"NuFIT5.0.png\" alt=\"Drawing\" style=\"width: 600px;\"/>\n",
    "\n",
    "We use the parameters that include SK atmospheric data.\n",
    "\n",
    "\n",
    "<!-- ### Kinetic neutrino mass from beta decay: \n",
    "$m_\\beta^2 = \\Sigma_i|U_{ei}|^2 M^2_i $\n",
    "\n",
    "## If we include sterile neutrinos\n",
    "* $U_{e4} = sin(\\theta_{14})e^{i\\gamma}$\n",
    "\n",
    "$\\gamma$ is an additinal Majorana mixing angle.\n",
    "\n",
    "The mixing parameters for the 3+1 model is taken from Kopp, et al (http://arxiv.org/abs/1303.3011). We should keep in mind:\n",
    "* No 3$\\sigma$ fit parameters were given in the reference. Only best-fit values are used for this calculation.\n",
    "* The added sterile flavor has little impact on mixing parameters of the standard 3 flavor values. I keep using the PDG2014 values with the ad hoc sterile part (partly to avoid adding yet another set of numbers)\n",
    "\n",
    "<img src='Sterile_MixingParameters.pdf', style='width:90%; border:1px solid black;'> -->\n",
    "\n"
   ]
  },
  {
   "cell_type": "markdown",
   "metadata": {},
   "source": [
    "# Code implementation\n",
    "\n",
    "The function that performs the scan as a function of $m_{\\text{lightest}}$ is implemented in $\\texttt{numass.py}$, and is called $\\texttt{nuM_range}$. What it does, roughly, is to sample the majorana phases from a beta distribution centered at 0.5 (you can think of this as \"we don't know the majorana phases value, but we expect them to be around 0.5 in average\") for all the possible values of $m_{\\text{lightest}}$.\n",
    "\n",
    "I have implemented $\\texttt{getArrays.py}$, which does the sampling for either IH or NH (decoupled, for a faster calculation), and it takes about 30 min to run over 50k samples. It produces two files: $\\texttt{normalArray.npy}$ and $\\texttt{invertedArray.npy}$, which contain the sampled values as well as the $\\pm 3\\sigma$ limits. Those files can be loaded as explained below, and used to make the so-called \"Lobster plot\""
   ]
  },
  {
   "cell_type": "markdown",
   "metadata": {},
   "source": [
    "## Import needed libraries"
   ]
  },
  {
   "cell_type": "code",
   "execution_count": 1,
   "metadata": {
    "collapsed": false,
    "jupyter": {
     "outputs_hidden": false
    }
   },
   "outputs": [],
   "source": [
    "import numpy as np\n",
    "import matplotlib.pylab as plt\n",
    "import matplotlib.patches as mpatches\n",
    "import matplotlib.lines as mlines"
   ]
  },
  {
   "cell_type": "code",
   "execution_count": 2,
   "metadata": {
    "collapsed": false,
    "jupyter": {
     "outputs_hidden": false
    }
   },
   "outputs": [],
   "source": [
    "from numass import nuM_range, boloLimits, massContour # import functions from the numass.py file"
   ]
  },
  {
   "cell_type": "markdown",
   "metadata": {},
   "source": [
    "## The following lines I use to make plots look more LaTex-esque"
   ]
  },
  {
   "cell_type": "code",
   "execution_count": 3,
   "metadata": {},
   "outputs": [
    {
     "name": "stderr",
     "output_type": "stream",
     "text": [
      "/tmp/ipykernel_27655/4047387554.py:8: MatplotlibDeprecationWarning: Support for setting the 'text.latex.preamble' or 'pgf.preamble' rcParam to a list of strings is deprecated since 3.3 and will be removed two minor releases later; set it to a single string instead.\n",
      "  mpl.rcParams['text.latex.preamble'] = [r'\\usepackage{amsmath}'] #for \\text command\n"
     ]
    }
   ],
   "source": [
    "import matplotlib as mpl\n",
    "import seaborn as sns\n",
    "\n",
    "mpl.rcParams['text.usetex'] = True\n",
    "mpl.rcParams['mathtext.rm'] = 'Times New Roman'\n",
    "mpl.rcParams['mathtext.it'] = 'Times New Roman:italic'\n",
    "mpl.rcParams['mathtext.bf'] = 'Times New Roman:bold'\n",
    "mpl.rcParams['text.latex.preamble'] = [r'\\usepackage{amsmath}'] #for \\text command\n",
    "\n",
    "mpl.rc('font', family='serif', size=12)\n",
    "mpl.rcParams['xtick.labelsize'] = 14\n",
    "mpl.rcParams['ytick.labelsize'] = 14\n",
    "mpl.rcParams['xtick.major.size'] = 5\n",
    "mpl.rcParams['ytick.major.size'] = 5\n",
    "\n",
    "mpl.rcParams['axes.titlesize'] = 18\n",
    "mpl.rcParams['axes.labelsize'] = 18\n",
    "# mpl.rc('font', size=16)\n",
    "mpl.rc('axes', titlesize=20)\n",
    "\n",
    "current_palette = sns.color_palette('colorblind', 10)\n",
    "import warnings\n",
    "warnings.filterwarnings(\"ignore\")"
   ]
  },
  {
   "cell_type": "markdown",
   "metadata": {},
   "source": [
    "## Here's where we load the produced files and define the plot limts"
   ]
  },
  {
   "cell_type": "code",
   "execution_count": 4,
   "metadata": {
    "collapsed": false,
    "jupyter": {
     "outputs_hidden": false
    }
   },
   "outputs": [],
   "source": [
    "ml = np.linspace(0.01,1,100)\n",
    "ml = np.append(ml, np.linspace(1.1,10,90))\n",
    "ml = np.append(ml, np.linspace(11,100,90))\n",
    "ml = np.append(ml, np.linspace(110,1000,90))\n",
    "\n",
    "with open('normalArray.npy', 'rb') as f:\n",
    "    mbbN = np.load(f)\n",
    "    mbN = np.load(f)\n",
    "    sumMN = np.load(f)\n",
    "    \n",
    "with open('invertedArray.npy', 'rb') as f:\n",
    "    mbbI = np.load(f)\n",
    "    mbI = np.load(f)\n",
    "    sumMI = np.load(f)"
   ]
  },
  {
   "cell_type": "markdown",
   "metadata": {},
   "source": [
    "### Let's now make a lobster plot with two panels, one for each scenario\n",
    "\n",
    "The function $\\texttt{massContour}$ makes the plots, and we add other features such as the axes limits, legends, etc"
   ]
  },
  {
   "cell_type": "code",
   "execution_count": 20,
   "metadata": {},
   "outputs": [
    {
     "data": {
      "image/png": "[encoded data removed]",
      "text/plain": [
       "<Figure size 648x360 with 2 Axes>"
      ]
     },
     "metadata": {
      "needs_background": "light"
     },
     "output_type": "display_data"
    }
   ],
   "source": [
    "XaxisMin = .1\n",
    "XaxisMax = 100\n",
    "YaxisMin = .1\n",
    "YaxisMax = 1000\n",
    "\n",
    "f, (IH, NH) = plt.subplots(1, 2, sharey=True, figsize=(9,5))\n",
    "massContour(IH, ml,mbbI, 'g',r'$m_{3}$ (meV)', r'$m_{\\beta\\beta}$ (meV)')\n",
    "massContour(NH, ml,mbbN, 'r',r'$m_{1}$ (meV)')\n",
    "f.subplots_adjust(wspace=0, left = 0.12, bottom=0.15, right=0.97, top=0.95)\n",
    "\n",
    "bestfit = mpatches.Patch(color='g', alpha=0.4)\n",
    "threeS = mpatches.Patch(color='g', alpha=0.2)\n",
    "IH.legend([bestfit, threeS], ['Best fit', '3$\\sigma$ band'],loc=2,title='Inverted Hierarchy', fontsize = 14)\n",
    "bestfit = mpatches.Patch(color='r', alpha=0.4)\n",
    "threeS = mpatches.Patch(color='r', alpha=0.2)\n",
    "NH.legend([bestfit, threeS], ['Best fit', '3$\\sigma$ band'],loc=2,title='Normal Hierarchy',fontsize = 14)\n",
    "\n",
    "IH.set_xlim(XaxisMin,XaxisMax)\n",
    "IH.set_ylim(YaxisMin,YaxisMax)\n",
    "\n",
    "NH.set_xlim(XaxisMin,XaxisMax)\n",
    "NH.set_ylim(YaxisMin,YaxisMax)\n",
    "\n",
    "plt.tight_layout()\n",
    "## Uncomment the following line of you'd like to save the plot\n",
    "# plt.savefig(\"./Lobster_twoPanels.pdf\")"
   ]
  },
  {
   "cell_type": "markdown",
   "metadata": {},
   "source": [
    "### Can also plot them on the same panel, and add stuff such as CUORE's sensitivity, etc"
   ]
  },
  {
   "cell_type": "code",
   "execution_count": 50,
   "metadata": {},
   "outputs": [
    {
     "data": {
      "image/png": "[encoded data removed]",
      "text/plain": [
       "<Figure size 576x432 with 1 Axes>"
      ]
     },
     "metadata": {
      "needs_background": "light"
     },
     "output_type": "display_data"
    }
   ],
   "source": [
    "axisMin = .1\n",
    "axisMax = 500\n",
    "XaxisMax = 100\n",
    "arrowXscale = 1.2\n",
    "\n",
    "# f, (IH, A) = plt.subplots(1, 2, sharey=True, figsize=(8,6),gridspec_kw={'width_ratios': [3, 1]})\n",
    "f, (IH) = plt.subplots(1, 1, sharey=True, figsize=(8,6))\n",
    "\n",
    "massContour(IH, ml,mbbI, 'g',r'$m_{\\text{l}}$ (meV)', r'$m_{\\beta\\beta}$ (meV)')\n",
    "massContour(IH, ml,mbbN, 'r',r'$m_{\\text{lightest}}$ (meV)', r'$m_{\\beta\\beta}$ (meV)')\n",
    "# f.subplots_adjust(wspace=0, left = 0.12, bottom=0.15, right=0.97, top=0.95)\n",
    "\n",
    "# A.scatter(5,5)\n",
    "# A.axes.get_xaxis().set_visible(False)\n",
    "\n",
    "f.subplots_adjust(wspace=0, left = 0.12, bottom=0.15, right=0.97, top=0.95)\n",
    "xMin = yMin = axisMin\n",
    "xMax = XaxisMax\n",
    "yMax = axisMax\n",
    "# IH.axhspan(90, 305, lw=0,fc='#2B4970',ec='#2B4970', alpha=0.3)\n",
    "# Teline = IH.axhline(90, color='#2B4970', label='$^{130}$Te limit (CUORE-0 + Cuoricino)')\n",
    "# IH.errorbar(xMin*arrowXscale, 90,yerr = 305-90-20, lolims=True,  color='#2B4970')\n",
    "# IH.text(xMin*pow(arrowXscale,2), 90*1.7, 'CUORE Limit', color='#2B4970',fontsize='small')\n",
    "\n",
    "# A.axhspan(200, 400,lw=0, ec='#AA7F39',fill=None, alpha=0.3, hatch='\\\\\\\\\\\\')\n",
    "# Geline = A.axhline(200, color='#AA7F39', label='$^{76}$Ge limit (GERDA + HdM + IGEX)', linestyle='--')\n",
    "# A.errorbar(xMin*6, 200, yerr=200, lolims=True,  color='#AA7F39')\n",
    "\n",
    "# A.axhspan(120, 250,lw=0, ec='#AA7F39',fill=None, alpha=0.3, hatch='///')\n",
    "# Xeline = A.axhline(120, color='#AA7F39', label='$^{136}$Xe limit (KamLAND-Zen + EXO-200)', linestyle='-')\n",
    "# A.errorbar(xMin*6*arrowXscale, 120, yerr=120, lolims=True,  color='#AA7F39')\n",
    "\n",
    "IH.axhspan(50, 130,lw=0, fc='C4',ec='C4', alpha=0.3)\n",
    "IH.axhline(50, color='C4', label='CUORE Sensitivity')\n",
    "IH.errorbar(xMin*3.8, 50, yerr=130-50-20, lolims=True,  color='C4')\n",
    "IH.text(xMin*(pow(arrowXscale,2)+3), 50*1.2, 'CUORE Sensitivity', color='C4',fontsize='small')\n",
    "\n",
    "# IH.legend(handles=[Teline, Geline, Xeline], loc=3,prop={'size':9})\n",
    "\n",
    "IH.set_xlim(xMin, xMax)\n",
    "NH.set_xlim(xMin, xMax)\n",
    "\n",
    "IH.text(2, 1, 'NH', color='k',fontsize=26)\n",
    "IH.text(2, 22, 'IH', color='k',fontsize=26)\n",
    "\n",
    "\n",
    "if yMin>0 and yMax >0:\n",
    "    IH.set_ylim(yMin, yMax)\n",
    "else:\n",
    "    IH.set_ylim(xMin, xMax)\n",
    "\n",
    "plt.tight_layout()\n",
    "plt.savefig(\"./Lobster.pdf\")"
   ]
  }
 ],
 "metadata": {
  "kernelspec": {
   "display_name": "Python 3 (ipykernel)",
   "language": "python",
   "name": "python3"
  },
  "language_info": {
   "codemirror_mode": {
    "name": "ipython",
    "version": 3
   },
   "file_extension": ".py",
   "mimetype": "text/x-python",
   "name": "python",
   "nbconvert_exporter": "python",
   "pygments_lexer": "ipython3",
   "version": "3.8.10"
  }
 },
 "nbformat": 4,
 "nbformat_minor": 4
}
